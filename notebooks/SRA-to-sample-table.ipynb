{
 "cells": [
  {
   "cell_type": "markdown",
   "metadata": {},
   "source": [
    "# Preparing a terra.bio sample table from GEO/SRA\n",
    "TODO"
   ]
  },
  {
   "cell_type": "code",
   "execution_count": 15,
   "metadata": {},
   "outputs": [],
   "source": [
    "# bioproject <- \"PRJNA668299\" # Mellor Lab - Spt4\n",
    "bioproject <- \"PRJNA669852\"# Churchman Lab - dozens of regulatory factors\n",
    "genomeName <- \"sacCer3\"\n",
    "genome_fasta <- \"https://hgdownload.soe.ucsc.edu/goldenPath/sacCer3/bigZips/sacCer3.fa.gz\""
   ]
  },
  {
   "cell_type": "code",
   "execution_count": 4,
   "metadata": {
    "code_folding": []
   },
   "outputs": [
    {
     "name": "stderr",
     "output_type": "stream",
     "text": [
      "'getOption(\"repos\")' replaces Bioconductor standard repositories, see\n",
      "'?repositories' for details\n",
      "\n",
      "replacement repositories:\n",
      "    CRAN: https://cloud.r-project.org\n",
      "\n",
      "\n",
      "Bioconductor version 3.13 (BiocManager 1.30.16), R 4.1.1 (2021-08-10)\n",
      "\n",
      "Installing package(s) 'TxDb.Scerevisiae.UCSC.sacCer3.sgdGene'\n",
      "\n",
      "also installing the dependencies ‘SummarizedExperiment’, ‘Rsamtools’, ‘GenomicAlignments’, ‘GenomicRanges’, ‘XVector’, ‘Biostrings’, ‘rtracklayer’, ‘biomaRt’, ‘Biobase’, ‘KEGGREST’, ‘GenomicFeatures’, ‘AnnotationDbi’\n",
      "\n",
      "\n",
      "Loading required package: dplyr\n",
      "\n",
      "\n",
      "Attaching package: ‘dplyr’\n",
      "\n",
      "\n",
      "The following objects are masked from ‘package:stats’:\n",
      "\n",
      "    filter, lag\n",
      "\n",
      "\n",
      "The following objects are masked from ‘package:base’:\n",
      "\n",
      "    intersect, setdiff, setequal, union\n",
      "\n",
      "\n",
      "── \u001b[1mAttaching packages\u001b[22m ─────────────────────────────────────── tidyverse 1.3.1 ──\n",
      "\n",
      "\u001b[32m✔\u001b[39m \u001b[34mggplot2\u001b[39m 3.3.5     \u001b[32m✔\u001b[39m \u001b[34mpurrr  \u001b[39m 0.3.4\n",
      "\u001b[32m✔\u001b[39m \u001b[34mtibble \u001b[39m 3.1.6     \u001b[32m✔\u001b[39m \u001b[34mstringr\u001b[39m 1.4.0\n",
      "\u001b[32m✔\u001b[39m \u001b[34mtidyr  \u001b[39m 1.1.4     \u001b[32m✔\u001b[39m \u001b[34mforcats\u001b[39m 0.5.1\n",
      "\u001b[32m✔\u001b[39m \u001b[34mreadr  \u001b[39m 2.1.1     \n",
      "\n",
      "── \u001b[1mConflicts\u001b[22m ────────────────────────────────────────── tidyverse_conflicts() ──\n",
      "\u001b[31m✖\u001b[39m \u001b[34mdplyr\u001b[39m::\u001b[32mfilter()\u001b[39m  masks \u001b[34mstats\u001b[39m::filter()\n",
      "\u001b[31m✖\u001b[39m \u001b[34mpurrr\u001b[39m::\u001b[32mflatten()\u001b[39m masks \u001b[34mAnVIL\u001b[39m::flatten()\n",
      "\u001b[31m✖\u001b[39m \u001b[34mdplyr\u001b[39m::\u001b[32mlag()\u001b[39m     masks \u001b[34mstats\u001b[39m::lag()\n",
      "\n",
      "\n",
      "Attaching package: ‘kableExtra’\n",
      "\n",
      "\n",
      "The following object is masked from ‘package:dplyr’:\n",
      "\n",
      "    group_rows\n",
      "\n",
      "\n",
      "Loading required package: GenomicFeatures\n",
      "\n",
      "Loading required package: BiocGenerics\n",
      "\n",
      "Loading required package: parallel\n",
      "\n",
      "\n",
      "Attaching package: ‘BiocGenerics’\n",
      "\n",
      "\n",
      "The following objects are masked from ‘package:parallel’:\n",
      "\n",
      "    clusterApply, clusterApplyLB, clusterCall, clusterEvalQ,\n",
      "    clusterExport, clusterMap, parApply, parCapply, parLapply,\n",
      "    parLapplyLB, parRapply, parSapply, parSapplyLB\n",
      "\n",
      "\n",
      "The following objects are masked from ‘package:dplyr’:\n",
      "\n",
      "    combine, intersect, setdiff, union\n",
      "\n",
      "\n",
      "The following objects are masked from ‘package:stats’:\n",
      "\n",
      "    IQR, mad, sd, var, xtabs\n",
      "\n",
      "\n",
      "The following objects are masked from ‘package:base’:\n",
      "\n",
      "    anyDuplicated, append, as.data.frame, basename, cbind, colnames,\n",
      "    dirname, do.call, duplicated, eval, evalq, Filter, Find, get, grep,\n",
      "    grepl, intersect, is.unsorted, lapply, Map, mapply, match, mget,\n",
      "    order, paste, pmax, pmax.int, pmin, pmin.int, Position, rank,\n",
      "    rbind, Reduce, rownames, sapply, setdiff, sort, table, tapply,\n",
      "    union, unique, unsplit, which.max, which.min\n",
      "\n",
      "\n",
      "Loading required package: S4Vectors\n",
      "\n",
      "Loading required package: stats4\n",
      "\n",
      "\n",
      "Attaching package: ‘S4Vectors’\n",
      "\n",
      "\n",
      "The following object is masked from ‘package:tidyr’:\n",
      "\n",
      "    expand\n",
      "\n",
      "\n",
      "The following objects are masked from ‘package:dplyr’:\n",
      "\n",
      "    first, rename\n",
      "\n",
      "\n",
      "The following objects are masked from ‘package:base’:\n",
      "\n",
      "    expand.grid, I, unname\n",
      "\n",
      "\n",
      "Loading required package: IRanges\n",
      "\n",
      "\n",
      "Attaching package: ‘IRanges’\n",
      "\n",
      "\n",
      "The following object is masked from ‘package:purrr’:\n",
      "\n",
      "    reduce\n",
      "\n",
      "\n",
      "The following object is masked from ‘package:glue’:\n",
      "\n",
      "    trim\n",
      "\n",
      "\n",
      "The following objects are masked from ‘package:dplyr’:\n",
      "\n",
      "    collapse, desc, slice\n",
      "\n",
      "\n",
      "Loading required package: GenomeInfoDb\n",
      "\n",
      "Loading required package: GenomicRanges\n",
      "\n",
      "Loading required package: AnnotationDbi\n",
      "\n",
      "Loading required package: Biobase\n",
      "\n",
      "Welcome to Bioconductor\n",
      "\n",
      "    Vignettes contain introductory material; view with\n",
      "    'browseVignettes()'. To cite Bioconductor, see\n",
      "    'citation(\"Biobase\")', and for packages 'citation(\"pkgname\")'.\n",
      "\n",
      "\n",
      "\n",
      "Attaching package: ‘AnnotationDbi’\n",
      "\n",
      "\n",
      "The following object is masked from ‘package:dplyr’:\n",
      "\n",
      "    select\n",
      "\n",
      "\n"
     ]
    }
   ],
   "source": [
    "# Load needed packages, installing if necessary\n",
    "required_packages <- c(\"AnVIL\", \"xml2\", \"rentrez\", \"glue\", \"tidyverse\", \"kableExtra\",\n",
    "                      \"TxDb.Scerevisiae.UCSC.sacCer3.sgdGene\")\n",
    "install_and_load <- function(packages) {\n",
    "    if (length(setdiff(packages, rownames(installed.packages()))) > 0) {\n",
    "        BiocManager::install(setdiff(packages, rownames(installed.packages())))\n",
    "    }\n",
    "    lapply(packages, library,  character.only = TRUE)\n",
    "    NULL\n",
    "}\n",
    "x <- install_and_load(required_packages)\n",
    "\n",
    "# Define functions\n",
    "# NOTE: use rentrez to avoid using the SRAdb secondary source.\n",
    "# filetype in \"fastq\", \"run\"\n",
    "create_sample_grid <- function(bioproject,\n",
    "            semantic_name = \"fastq\", org = \"GCP\", retmax = NULL) {\n",
    "\n",
    "        bpid <- entrez_search(db = \"bioproject\", term = bioproject)\n",
    "    if (bpid$count == 0) {\n",
    "        stop(glue::glue(\"Bioproject <{bioproject}> not found\"))\n",
    "    }\n",
    "\n",
    "    sra_ids <- entrez_link(dbfrom = \"bioproject\", id = bpid$ids, db = \"sra\")$links$bioproject_sra\n",
    "    x <- read_xml(entrez_fetch(db = \"sra\", id = sra_ids, rettype = \"xml\", retmax = retmax))\n",
    "    \n",
    "    runs <- xml_find_all(x, '/EXPERIMENT_PACKAGE_SET/EXPERIMENT_PACKAGE/RUN_SET/RUN')\n",
    "    run_id <- xml_attr(runs, \"accession\")\n",
    "    expref <- xml_find_all(runs, \"EXPERIMENT_REF\")\n",
    "    experiment_id <- xml_attr(expref, \"accession\")\n",
    "    biosample_id <- xml_attr(expref, \"refname\")\n",
    "    # Only reporting first member in pool\n",
    "    member <- xml_find_first(runs, \"Pool/Member\")\n",
    "    sample_title <- xml_attr(member, \"sample_title\")\n",
    "    sra_sample_id <- xml_attr(member, \"accession\")\n",
    "    sra_File <- xml_find_first(runs, glue(\"./SRAFiles/SRAFile[@semantic_name=\\\"{semantic_name}\\\"]\"))\n",
    "    sra_File_alt <- xml_find_first(sra_File, glue(\"./Alternatives[@org=\\\"{org}\\\"]\"))\n",
    "    filename <- xml_attr(sra_File, \"filename\")\n",
    "    sra_url <- xml_attr(sra_File_alt, \"url\")\n",
    "    tibble(bioproject, experiment_id, biosample_id, sra_sample_id, run_id, sample_title,  filename, sra_url)\n",
    "}"
   ]
  },
  {
   "cell_type": "code",
   "execution_count": 35,
   "metadata": {
    "scrolled": false
   },
   "outputs": [
    {
     "data": {
      "text/plain": [
       "\n",
       "\n",
       "Table: Bioproject Summary Attributes\n",
       "\n",
       "|attribute              |value                                                                                 |\n",
       "|:----------------------|:-------------------------------------------------------------------------------------|\n",
       "|project_acc            |PRJNA669852                                                                           |\n",
       "|project_name           |Dynamics of transcription elongation are finely-tuned by dozens of regulatory factors |\n",
       "|submitter_organization |Stirling Churchman, Genetics, Harvard Medical School                                  |\n",
       "|registration_date      |2020/10/19 00:00                                                                      |"
      ]
     },
     "metadata": {},
     "output_type": "display_data"
    }
   ],
   "source": [
    "# TODO unwrap create_sample_grid\n",
    "bpid <- entrez_search(db = \"bioproject\", term = bioproject)\n",
    "bp_summary <- entrez_summary(db = \"bioproject\", id = bpid$ids)\n",
    "sapply(c(\"project_acc\",\n",
    "    \"project_name\",\n",
    "    \"submitter_organization\",\n",
    "    \"registration_date\"), \n",
    "       function(u) data.frame(attribute = u, value = bp_summary[[u]]), USE.NAMES = FALSE) %>% \n",
    " t %>% kable(format = \"pipe\", caption = \"Bioproject Summary Attributes\")"
   ]
  },
  {
   "cell_type": "code",
   "execution_count": 44,
   "metadata": {},
   "outputs": [
    {
     "data": {
      "text/html": [
       "'sample'"
      ],
      "text/latex": [
       "'sample'"
      ],
      "text/markdown": [
       "'sample'"
      ],
      "text/plain": [
       "[1] \"sample\""
      ]
     },
     "metadata": {},
     "output_type": "display_data"
    }
   ],
   "source": [
    "result <- create_sample_grid(bioproject)\n",
    "\n",
    "# TODO Clean up sample_id's if we are going to allow multiple assays\n",
    "# Infer strain and assay type from sample_title\n",
    "result %>% \n",
    "    separate(sample_title, into = c(\"sample_id\", \"assay\"), sep = \"_\", remove = FALSE) %>%\n",
    "    separate(sample_id, into = \"strain\", sep = \"-\", extra = \"drop\", remove = FALSE) %>%\n",
    "    filter(assay == \"netseq\") %>%\n",
    "    relocate(sample_id) %>%\n",
    "    arrange(sample_title) %>%\n",
    "    dplyr::rename(inputFastQ = sra_url, \"entity:sample_id\" = sample_id) -> sample\n",
    "\n",
    "sample %>% avtable_import"
   ]
  },
  {
   "cell_type": "code",
   "execution_count": 34,
   "metadata": {},
   "outputs": [
    {
     "data": {
      "text/plain": [
       "Copying file:///tmp/RtmpWWPBlc/sacCer3.fa [Content-Type=application/octet-stream]...\n",
       "/ [0/1 files][    0.0 B/  3.6 MiB]   0% Done                                    \r\n",
       "/ [1/1 files][  3.6 MiB/  3.6 MiB] 100% Done                                    \r\n",
       "Operation completed over 1 objects/3.6 MiB.                                      "
      ]
     },
     "metadata": {},
     "output_type": "display_data"
    }
   ],
   "source": [
    "# Copy genome fasta to local bucket\n",
    "genome_local_fa <- glue(tempdir(), \"/\", genomeName, \".fa\")\n",
    "download.file(genome_fasta, genome_local_fa)\n",
    "gs_uri <- glue(avbucket(), \"/\", genomeName, \".fa\")\n",
    "gsutil_cp(genome_local_fa, gs_uri)"
   ]
  },
  {
   "cell_type": "code",
   "execution_count": null,
   "metadata": {},
   "outputs": [],
   "source": [
    "# advertise location of genome in the workspace data table\n",
    "tibble(`workspace:refFasta` = gs_uri) %>% avtable_import"
   ]
  }
 ],
 "metadata": {
  "kernelspec": {
   "display_name": "R",
   "language": "R",
   "name": "ir"
  },
  "language_info": {
   "codemirror_mode": "r",
   "file_extension": ".r",
   "mimetype": "text/x-r-source",
   "name": "R",
   "pygments_lexer": "r",
   "version": "4.1.1"
  },
  "toc": {
   "base_numbering": 1,
   "nav_menu": {},
   "number_sections": true,
   "sideBar": true,
   "skip_h1_title": false,
   "title_cell": "Table of Contents",
   "title_sidebar": "Contents",
   "toc_cell": false,
   "toc_position": {},
   "toc_section_display": true,
   "toc_window_display": false
  }
 },
 "nbformat": 4,
 "nbformat_minor": 2
}
