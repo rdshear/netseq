{
 "cells": [
  {
   "cell_type": "markdown",
   "metadata": {},
   "source": [
    "# Preparing a terra.bio sample table from GEO/SRA\n",
    "TODO"
   ]
  },
  {
   "cell_type": "code",
   "execution_count": null,
   "metadata": {},
   "outputs": [],
   "source": [
    "# bioproject <- \"PRJNA668299\" # Mellor Lab - Spt4\n",
    "bioproject <- \"PRJNA669852\"# Churchman Lab - dozens of regulatory factors\n",
    "genomeName <- \"sacCer3\"\n",
    "genome_fasta <- \"https://hgdownload.soe.ucsc.edu/goldenPath/sacCer3/bigZips/sacCer3.fa.gz\"\n",
    "genome_local_name <- \"sacCer3.fa\""
   ]
  },
  {
   "cell_type": "code",
   "execution_count": null,
   "metadata": {
    "code_folding": [],
    "scrolled": true
   },
   "outputs": [],
   "source": [
    "# Load needed packages, installing if necessary\n",
    "required_packages <- c(\"AnVIL\", \"xml2\", \"rentrez\", \"glue\", \"kableExtra\",\n",
    "                      \"tidyverse\")\n",
    "install_and_load <- function(packages) {\n",
    "    if (length(setdiff(packages, rownames(installed.packages()))) > 0) {\n",
    "        BiocManager::install(setdiff(packages, rownames(installed.packages())))\n",
    "    }\n",
    "    lapply(packages, library,  character.only = TRUE)\n",
    "    NULL\n",
    "}\n",
    "x <- install_and_load(required_packages)"
   ]
  },
  {
   "cell_type": "code",
   "execution_count": null,
   "metadata": {
    "code_folding": []
   },
   "outputs": [],
   "source": [
    "# Define functions\n",
    "# NOTE: use rentrez to avoid using the SRAdb secondary source.\n",
    "create_sample_grid <- function(bioproject,\n",
    "            semantic_name = \"fastq\", org = \"GCP\", retmax = NULL) {\n",
    "\n",
    "        bpid <- entrez_search(db = \"bioproject\", term = bioproject)\n",
    "    if (bpid$count == 0) {\n",
    "        stop(glue::glue(\"Bioproject <{bioproject}> not found\"))\n",
    "    }\n",
    "\n",
    "    sra_ids <- entrez_link(dbfrom = \"bioproject\", id = bpid$ids, db = \"sra\")$links$bioproject_sra\n",
    "    x <- read_xml(entrez_fetch(db = \"sra\", id = sra_ids, rettype = \"xml\", retmax = retmax))\n",
    "    \n",
    "    runs <- xml_find_all(x, '/EXPERIMENT_PACKAGE_SET/EXPERIMENT_PACKAGE/RUN_SET/RUN')\n",
    "    run_id <- xml_attr(runs, \"accession\")\n",
    "    expref <- xml_find_all(runs, \"EXPERIMENT_REF\")\n",
    "    experiment_id <- xml_attr(expref, \"accession\")\n",
    "    biosample_id <- xml_attr(expref, \"refname\")\n",
    "    total_reads <- xml_attr(runs, \"total_readss\")\n",
    "    total_bases <- xml_attr(runs, \"total_bases\")\n",
    "    size <- xml_attr(runs, \"size\")\n",
    "    # Only reporting first member in pool\n",
    "    member <- xml_find_first(runs, \"Pool/Member\")\n",
    "    sample_title <- xml_attr(member, \"sample_title\")\n",
    "    sra_sample_id <- xml_attr(member, \"accession\")\n",
    "    tibble(bioproject, experiment_id, biosample_id, sra_sample_id, run_id, sample_title, total_reads, total_bases, size)\n",
    "}"
   ]
  },
  {
   "cell_type": "code",
   "execution_count": null,
   "metadata": {
    "scrolled": false
   },
   "outputs": [],
   "source": [
    "bpid <- entrez_search(db = \"bioproject\", term = bioproject)\n",
    "bp_summary <- entrez_summary(db = \"bioproject\", id = bpid$ids)\n",
    "sapply(c(\"project_acc\",\n",
    "    \"project_name\",\n",
    "    \"submitter_organization\",\n",
    "    \"registration_date\"), \n",
    "       function(u) data.frame(attribute = u, value = bp_summary[[u]]), USE.NAMES = FALSE) %>% \n",
    " t %>% kable(format = \"pipe\", caption = \"Bioproject Summary Attributes\")"
   ]
  },
  {
   "cell_type": "code",
   "execution_count": null,
   "metadata": {},
   "outputs": [],
   "source": [
    "result <- create_sample_grid(bioproject)\n",
    "# TODO Clean up sample_id's if we are going to allow multiple assays\n",
    "# Infer strain and assay type from sample_title\n",
    "result %>% \n",
    "    separate(sample_title, into = c(\"sample_id\", \"assay\"), sep = \"_\", remove = FALSE) %>%\n",
    "    separate(sample_id, into = \"strain\", sep = \"-\", extra = \"drop\", remove = FALSE) %>%\n",
    "    filter(assay == \"NETseq\") %>%\n",
    "    relocate(sample_id) %>%\n",
    "    arrange(sample_title) %>%\n",
    "    rename(\"entity:sample_id\" = sample_id) -> sample\n",
    "\n",
    "sample %>% kable(format = \"pipe\", caption = \"sample entity table\")"
   ]
  },
  {
   "cell_type": "code",
   "execution_count": null,
   "metadata": {
    "scrolled": true
   },
   "outputs": [],
   "source": [
    "sample %>% avtable_import\n",
    "# TODO report before and after statistics"
   ]
  },
  {
   "cell_type": "code",
   "execution_count": null,
   "metadata": {
    "scrolled": true
   },
   "outputs": [],
   "source": [
    "# Copy genome fasta to local bucket\n",
    "work_dir <- tempdir()\n",
    "genome_local_fa <- glue(\"{work_dir}/{genome_local_name}\")\n",
    "genome_local_gz <- glue(\"{genome_local_fa}.gz\")\n",
    "download.file(genome_fasta, genome_local_gz)\n",
    "# TODO Assumes we are in gzip format. For simplicity, save uncompressed for now ... \n",
    "system(glue(\"gunzip -f {genome_local_gz}\"))\n",
    "gs_uri <- glue(\"{avbucket()}/{genome_local_name}\")\n",
    "gsutil_cp(genome_local_fa, gs_uri)"
   ]
  }
 ],
 "metadata": {
  "jupytext": {
   "formats": "ipynb,Rmd"
  },
  "kernelspec": {
   "display_name": "R",
   "language": "R",
   "name": "ir"
  },
  "language_info": {
   "codemirror_mode": "r",
   "file_extension": ".r",
   "mimetype": "text/x-r-source",
   "name": "R",
   "pygments_lexer": "r",
   "version": "4.1.1"
  },
  "toc": {
   "base_numbering": 1,
   "nav_menu": {},
   "number_sections": true,
   "sideBar": true,
   "skip_h1_title": false,
   "title_cell": "Table of Contents",
   "title_sidebar": "Contents",
   "toc_cell": false,
   "toc_position": {},
   "toc_section_display": true,
   "toc_window_display": false
  }
 },
 "nbformat": 4,
 "nbformat_minor": 2
}
